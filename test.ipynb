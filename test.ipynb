{
 "cells": [
  {
   "cell_type": "code",
   "execution_count": 15,
   "metadata": {},
   "outputs": [],
   "source": [
    "hash_map = {'VA': 'none', 'VB': 'none', 'VC': 'none', 'VD': 'none', 'VE': 'none',\n",
    "            'VF': 'none', 'VG': 'none', 'VH': 'none', 'VI': 'none', 'VJ': 'none'}\n",
    "\n",
    "for i in range(1, 11):\n",
    "    hash_map['V'+str(i)] = 'none'"
   ]
  },
  {
   "cell_type": "code",
   "execution_count": 16,
   "metadata": {},
   "outputs": [
    {
     "data": {
      "text/plain": [
       "{'VA': 'none',\n",
       " 'VB': 'none',\n",
       " 'VC': 'none',\n",
       " 'VD': 'none',\n",
       " 'VE': 'none',\n",
       " 'VF': 'none',\n",
       " 'VG': 'none',\n",
       " 'VH': 'none',\n",
       " 'VI': 'none',\n",
       " 'VJ': 'none',\n",
       " 'V1': 'none',\n",
       " 'V2': 'none',\n",
       " 'V3': 'none',\n",
       " 'V4': 'none',\n",
       " 'V5': 'none',\n",
       " 'V6': 'none',\n",
       " 'V7': 'none',\n",
       " 'V8': 'none',\n",
       " 'V9': 'none',\n",
       " 'V10': 'none'}"
      ]
     },
     "execution_count": 16,
     "metadata": {},
     "output_type": "execute_result"
    }
   ],
   "source": [
    "hash_map"
   ]
  }
 ],
 "metadata": {
  "kernelspec": {
   "display_name": "base",
   "language": "python",
   "name": "python3"
  },
  "language_info": {
   "codemirror_mode": {
    "name": "ipython",
    "version": 3
   },
   "file_extension": ".py",
   "mimetype": "text/x-python",
   "name": "python",
   "nbconvert_exporter": "python",
   "pygments_lexer": "ipython3",
   "version": "3.9.16"
  },
  "orig_nbformat": 4,
  "vscode": {
   "interpreter": {
    "hash": "cd89e2ca20ed16bd77affacd6888fe77a1efd4cb38c86b1cacd9356694cfbeb2"
   }
  }
 },
 "nbformat": 4,
 "nbformat_minor": 2
}
